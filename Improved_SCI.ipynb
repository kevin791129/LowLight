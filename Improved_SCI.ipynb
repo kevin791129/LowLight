{
  "cells": [
    {
      "cell_type": "code",
      "execution_count": null,
      "metadata": {
        "id": "hjhkyIvkSjyA"
      },
      "outputs": [],
      "source": [
        "from google.colab import drive\n",
        "drive.mount('/content/drive')"
      ]
    },
    {
      "cell_type": "code",
      "execution_count": 2,
      "metadata": {
        "id": "7eIE3Am7Vkj9"
      },
      "outputs": [],
      "source": [
        "import os\n",
        "import sys\n",
        "\n",
        "WORKING_DIR = '/content/drive/MyDrive/Colab/improved_sci'\n",
        "sys.path.append(WORKING_DIR)"
      ]
    },
    {
      "cell_type": "code",
      "execution_count": 3,
      "metadata": {
        "id": "S-Fw17_uTjY6"
      },
      "outputs": [],
      "source": [
        "from tqdm import tqdm\n",
        "import time\n",
        "import glob\n",
        "import numpy as np\n",
        "import torch\n",
        "import utils\n",
        "from PIL import Image\n",
        "import logging\n",
        "import argparse\n",
        "import torch.utils\n",
        "import torch.backends.cudnn as cudnn\n",
        "import torch.nn as nn\n",
        "from torch.autograd import Variable\n",
        "from torchsummary import summary\n",
        "import skimage as ski\n",
        "\n",
        "from model import *\n",
        "from multi_read_data import MemoryFriendlyLoader"
      ]
    },
    {
      "cell_type": "markdown",
      "metadata": {
        "id": "4p9LkCVZrapf"
      },
      "source": [
        "<h1>Constants & Utility"
      ]
    },
    {
      "cell_type": "code",
      "execution_count": 4,
      "metadata": {
        "id": "erNLm0IpVxOY"
      },
      "outputs": [],
      "source": [
        "TRAIN_BATCH_SIZE = 4\n",
        "TEST_BATCH_SIZE = 1\n",
        "SEED = 42\n",
        "EPOCHS = 100\n",
        "LEARN_RATE = 0.0003\n",
        "NUM_STAGE = 3\n",
        "COLOR_FORMAT = 'ycbcr'\n",
        "IN_CHANNELS = 2\n",
        "\n",
        "SESSION_NAME = COLOR_FORMAT if IN_CHANNELS == 1 else f\"mixed_{COLOR_FORMAT}\"\n",
        "SAVE_DIR = os.path.join(WORKING_DIR, SESSION_NAME)"
      ]
    },
    {
      "cell_type": "code",
      "execution_count": 5,
      "metadata": {
        "id": "EdihkdanWStL"
      },
      "outputs": [],
      "source": [
        "def save_images(tensor, path):\n",
        "    image_numpy = tensor[0].cpu().float().numpy()\n",
        "    image_numpy = (np.transpose(image_numpy, (1, 2, 0)))\n",
        "    im = Image.fromarray(np.clip(image_numpy * 255.0, 0, 255.0).astype('uint8'))\n",
        "    im.save(path, 'png')"
      ]
    },
    {
      "cell_type": "markdown",
      "metadata": {
        "id": "xrCeQUnrrnad"
      },
      "source": [
        "<h1>Training"
      ]
    },
    {
      "cell_type": "code",
      "execution_count": 6,
      "metadata": {
        "id": "g41X_UotWS1O"
      },
      "outputs": [],
      "source": [
        "if torch.cuda.is_available():\n",
        "    torch.set_default_dtype(torch.float)\n",
        "else:\n",
        "    print(\"WARNING: CUDA not available.\")"
      ]
    },
    {
      "cell_type": "code",
      "execution_count": 7,
      "metadata": {
        "colab": {
          "base_uri": "https://localhost:8080/"
        },
        "id": "RZju7dw5WS5c",
        "outputId": "aeef12ce-3cf8-4230-da73-d5fbd69c5815"
      },
      "outputs": [
        {
          "output_type": "stream",
          "name": "stdout",
          "text": [
            "Experiment dir : /content/drive/MyDrive/Colab/improved_sci/mixed_ycbcr\n"
          ]
        }
      ],
      "source": [
        "utils.create_exp_dir(SAVE_DIR, scripts_to_save=glob.glob(os.path.join(WORKING_DIR, '*.py')))\n",
        "model_path = SAVE_DIR + '/model_epochs/'\n",
        "os.makedirs(model_path, exist_ok=True)\n",
        "image_path = SAVE_DIR + '/image_epochs/'\n",
        "os.makedirs(image_path, exist_ok=True)"
      ]
    },
    {
      "cell_type": "code",
      "execution_count": 8,
      "metadata": {
        "id": "DGPj0AEqX514"
      },
      "outputs": [],
      "source": [
        "np.random.seed(SEED)\n",
        "cudnn.benchmark = True\n",
        "torch.manual_seed(SEED)\n",
        "cudnn.enabled = True\n",
        "torch.cuda.manual_seed(SEED)"
      ]
    },
    {
      "cell_type": "code",
      "execution_count": 9,
      "metadata": {
        "colab": {
          "base_uri": "https://localhost:8080/"
        },
        "id": "vQXgjSWBX5zZ",
        "outputId": "3e009cf2-fa4f-442b-f0c2-37c822e72627"
      },
      "outputs": [
        {
          "output_type": "stream",
          "name": "stdout",
          "text": [
            "0.005216\n"
          ]
        }
      ],
      "source": [
        "model = TrainModel(stage=NUM_STAGE, color=COLOR_FORMAT, in_channels=IN_CHANNELS)\n",
        "\n",
        "model.illumination.in_conv.apply(model.weights_init)\n",
        "model.illumination.conv.apply(model.weights_init)\n",
        "model.illumination.out_conv.apply(model.weights_init)\n",
        "model.self_calibrate.in_conv.apply(model.weights_init)\n",
        "model.self_calibrate.convs.apply(model.weights_init)\n",
        "model.self_calibrate.out_conv.apply(model.weights_init)\n",
        "\n",
        "model = model.cuda()\n",
        "optimizer = torch.optim.Adam(model.parameters(), lr=LEARN_RATE, betas=(0.9, 0.999), weight_decay=3e-4)\n",
        "MB = utils.count_parameters_in_MB(model)\n",
        "print(MB)"
      ]
    },
    {
      "cell_type": "code",
      "execution_count": 10,
      "metadata": {
        "id": "e-1r-VGoX5vs"
      },
      "outputs": [],
      "source": [
        "train_low_data_names = '/content/drive/MyDrive/Colab/data/LSRW/train'\n",
        "TrainDataset = MemoryFriendlyLoader(img_dir=train_low_data_names, task='train')\n",
        "\n",
        "\n",
        "test_low_data_names = '/content/drive/MyDrive/Colab/data/dark_test'\n",
        "TestDataset = MemoryFriendlyLoader(img_dir=test_low_data_names, task='test')\n",
        "\n",
        "train_queue = torch.utils.data.DataLoader(TrainDataset, batch_size=TRAIN_BATCH_SIZE, pin_memory=True, num_workers=0, shuffle=True)\n",
        "\n",
        "test_queue = torch.utils.data.DataLoader(TestDataset, batch_size=TEST_BATCH_SIZE, pin_memory=True, num_workers=0, shuffle=True)"
      ]
    },
    {
      "cell_type": "code",
      "execution_count": null,
      "metadata": {
        "id": "rf1C12uSTkjB"
      },
      "outputs": [],
      "source": [
        "total_step = 0\n",
        "\n",
        "for epoch in tqdm(range(EPOCHS), desc=\"Epoch\", position=0):\n",
        "    model.train()\n",
        "    losses = []\n",
        "    for batch_idx, (input, _) in enumerate(train_queue):\n",
        "        total_step += 1\n",
        "        input = Variable(input, requires_grad=False).cuda()\n",
        "\n",
        "        optimizer.zero_grad()\n",
        "        #with torch.autograd.set_detect_anomaly(True):\n",
        "        loss = model._loss(input)\n",
        "        loss.backward()\n",
        "        nn.utils.clip_grad_norm_(model.parameters(), 5)\n",
        "        optimizer.step()\n",
        "\n",
        "        losses.append(loss.item())\n",
        "\n",
        "    utils.save(model, os.path.join(model_path, 'weights_%d.pt' % epoch))\n",
        "\n",
        "    if (epoch % 10 == 0 or epoch == EPOCHS - 1) and total_step != 0:\n",
        "        model.eval()\n",
        "        with torch.no_grad():\n",
        "            for _, (input, image_name) in enumerate(test_queue):\n",
        "                input = Variable(input).cuda()\n",
        "                image_name = image_name[0].split('/')[-1].split('.')[0]\n",
        "                illu_list, ref_list, input_list, atten = model(input)\n",
        "                u_name = '%s.png' % (image_name + '_' + str(epoch))\n",
        "                save_images(ref_list[0], os.path.join(image_path, u_name))"
      ]
    },
    {
      "cell_type": "markdown",
      "source": [
        "<h1> Evaluation"
      ],
      "metadata": {
        "id": "9Te7zDZrDoik"
      }
    },
    {
      "cell_type": "code",
      "source": [
        "WEIGHTS = os.path.join(SAVE_DIR, 'model_epochs/weights_99.pt')"
      ],
      "metadata": {
        "id": "RfZVlVVCF6DZ"
      },
      "execution_count": 34,
      "outputs": []
    },
    {
      "cell_type": "code",
      "source": [
        "eval_path = SAVE_DIR + '/eval/'\n",
        "os.makedirs(eval_path, exist_ok=True)"
      ],
      "metadata": {
        "id": "OBladEMcHGEL"
      },
      "execution_count": 35,
      "outputs": []
    },
    {
      "cell_type": "code",
      "source": [
        "model = PredictModel(weights=WEIGHTS, color=COLOR_FORMAT, in_channels=IN_CHANNELS)\n",
        "model = model.cuda()"
      ],
      "metadata": {
        "id": "GfFodnwpDtrn"
      },
      "execution_count": 36,
      "outputs": []
    },
    {
      "cell_type": "code",
      "source": [
        "eval_data_names = '/content/drive/MyDrive/Colab/data/LSRW/test'\n",
        "EvalDataset = MemoryFriendlyLoader(img_dir=eval_data_names, task='eval')\n",
        "\n",
        "eval_queue = torch.utils.data.DataLoader(EvalDataset, batch_size=TEST_BATCH_SIZE, pin_memory=True, num_workers=0, shuffle=True)"
      ],
      "metadata": {
        "id": "8aRxLWP0Dtn8"
      },
      "execution_count": 37,
      "outputs": []
    },
    {
      "cell_type": "code",
      "source": [
        " model.eval()\n",
        " with torch.no_grad():\n",
        "  for _, (input, image_name) in enumerate(eval_queue):\n",
        "    input = Variable(input).cuda()\n",
        "    image_name = image_name[0].split('/')[-1].split('.')[0]\n",
        "    i, r = model(input)\n",
        "    u_name = '%s.png' % (image_name)\n",
        "    save_images(r, os.path.join(eval_path, u_name))"
      ],
      "metadata": {
        "id": "m6fx7lvgDtgq"
      },
      "execution_count": 38,
      "outputs": []
    }
  ],
  "metadata": {
    "accelerator": "GPU",
    "colab": {
      "gpuType": "A100",
      "provenance": [],
      "machine_shape": "hm"
    },
    "kernelspec": {
      "display_name": "Python 3",
      "name": "python3"
    },
    "language_info": {
      "name": "python"
    }
  },
  "nbformat": 4,
  "nbformat_minor": 0
}